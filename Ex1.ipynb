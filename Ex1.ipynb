{
 "cells": [
  {
   "cell_type": "code",
   "execution_count": 12,
   "id": "f078774b-1d5d-4a55-849d-9f2c55b19c38",
   "metadata": {},
   "outputs": [],
   "source": [
    "import cv2"
   ]
  },
  {
   "cell_type": "code",
   "execution_count": 13,
   "id": "6c05b6a1-e070-4f27-947e-501c38cf20a4",
   "metadata": {},
   "outputs": [],
   "source": [
    "img = cv2.imread(\"aot.png\")"
   ]
  },
  {
   "cell_type": "code",
   "execution_count": 2,
   "id": "403cdd72-251f-4c49-9802-0762fcdb6fa5",
   "metadata": {},
   "outputs": [
    {
     "data": {
      "text/plain": [
       "48"
      ]
     },
     "execution_count": 2,
     "metadata": {},
     "output_type": "execute_result"
    }
   ],
   "source": [
    "# To Read,display the image\n",
    "\n",
    "img = cv2.imread(\"aot.png\")\n",
    "cv2.imshow(\"read_pic\",img)\n",
    "cv2.waitKey(0)"
   ]
  },
  {
   "cell_type": "code",
   "execution_count": 3,
   "id": "4caf1190-7362-4e91-964b-01b2b57b2640",
   "metadata": {},
   "outputs": [
    {
     "data": {
      "text/plain": [
       "True"
      ]
     },
     "execution_count": 3,
     "metadata": {},
     "output_type": "execute_result"
    }
   ],
   "source": [
    "# To write the image\n",
    "\n",
    "cv2.imwrite(\"write_pic.png\",img)"
   ]
  },
  {
   "cell_type": "code",
   "execution_count": 14,
   "id": "fe15dd94-abfa-4f79-b465-d864a194aeeb",
   "metadata": {},
   "outputs": [
    {
     "name": "stdout",
     "output_type": "stream",
     "text": [
      "(1080, 1920, 3)\n"
     ]
    }
   ],
   "source": [
    "# Find the shape of the Image\n",
    "\n",
    "print(img.shape)"
   ]
  },
  {
   "cell_type": "code",
   "execution_count": 15,
   "id": "befa21ad-ea32-4711-bf10-5979317b4c99",
   "metadata": {},
   "outputs": [
    {
     "data": {
      "text/plain": [
       "16"
      ]
     },
     "execution_count": 15,
     "metadata": {},
     "output_type": "execute_result"
    }
   ],
   "source": [
    "# To access rows and columns\n",
    "\n",
    "for i in range(350,400):\n",
    "    for j in range(800,1000):\n",
    "        img[i][j] = [104, 104, 104]\n",
    "cv2.imshow(\"row_pic.png\",img)\n",
    "cv2.waitKey(0)"
   ]
  },
  {
   "cell_type": "code",
   "execution_count": null,
   "id": "391686ba-936a-4762-b481-6650367bd9c7",
   "metadata": {},
   "outputs": [],
   "source": [
    "# To cut and paste portion of image\n",
    "\n",
    "img[700:1000,600:900] = img[300:600,1100:1400]\n",
    "cv2.imshow(\"cut_pic.png\",img)\n",
    "cv2.waitKey(0)"
   ]
  },
  {
   "cell_type": "code",
   "execution_count": null,
   "id": "57c890ed-b820-4d02-a06a-973fd6239483",
   "metadata": {},
   "outputs": [],
   "source": []
  }
 ],
 "metadata": {
  "kernelspec": {
   "display_name": "Python 3 (ipykernel)",
   "language": "python",
   "name": "python3"
  },
  "language_info": {
   "codemirror_mode": {
    "name": "ipython",
    "version": 3
   },
   "file_extension": ".py",
   "mimetype": "text/x-python",
   "name": "python",
   "nbconvert_exporter": "python",
   "pygments_lexer": "ipython3",
   "version": "3.9.13"
  }
 },
 "nbformat": 4,
 "nbformat_minor": 5
}
